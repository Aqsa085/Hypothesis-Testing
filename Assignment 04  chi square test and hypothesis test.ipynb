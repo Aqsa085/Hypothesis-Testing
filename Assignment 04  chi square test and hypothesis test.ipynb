{
 "cells": [
  {
   "cell_type": "markdown",
   "id": "4ab256f7",
   "metadata": {},
   "source": [
    "## 01.Chi-Square Test"
   ]
  },
  {
   "cell_type": "markdown",
   "id": "e12c60bd",
   "metadata": {},
   "source": [
    "## State the Hypotheses"
   ]
  },
  {
   "cell_type": "markdown",
   "id": "c9304427",
   "metadata": {},
   "source": [
    "A hypothesis is a testable statement or prediction about the relationship between two or more variables.\n",
    "\n",
    "* Null Hypothesis (H₀): There is no significant relationship between [independent variable] and [dependent variable].\n",
    "* Alternative Hypothesis (H₁): There is a significant relationship between [independent variable] and [dependent variable]."
   ]
  },
  {
   "cell_type": "code",
   "execution_count": 3,
   "id": "b651f262",
   "metadata": {},
   "outputs": [],
   "source": [
    "import numpy as np\n",
    "from scipy.stats import chi2"
   ]
  },
  {
   "cell_type": "code",
   "execution_count": 4,
   "id": "e55fae76",
   "metadata": {},
   "outputs": [],
   "source": [
    "# observed frequency table\n",
    "observed=np.array([[50,70],\n",
    "                 [80,100],\n",
    "                 [60,90],\n",
    "                 [30,50],\n",
    "                 [20,50]])"
   ]
  },
  {
   "cell_type": "code",
   "execution_count": 7,
   "id": "346693e4",
   "metadata": {},
   "outputs": [],
   "source": [
    "# Totals\n",
    "row_totals=observed.sum(axis=1)\n",
    "col_totals = observed.sum(axis=0)\n",
    "grand_total = observed.sum()"
   ]
  },
  {
   "cell_type": "code",
   "execution_count": 8,
   "id": "4de78b18",
   "metadata": {},
   "outputs": [],
   "source": [
    "# Expected frequency table\n",
    "expected = np.outer(row_totals, col_totals) / grand_total"
   ]
  },
  {
   "cell_type": "code",
   "execution_count": 9,
   "id": "5a528ed8",
   "metadata": {},
   "outputs": [],
   "source": [
    "# Chi-Square statistic calculation\n",
    "chi2_stat = ((observed - expected) ** 2 / expected).sum()"
   ]
  },
  {
   "cell_type": "code",
   "execution_count": 7,
   "id": "17456fb6",
   "metadata": {},
   "outputs": [
    {
     "data": {
      "text/plain": [
       "5.638227513227513"
      ]
     },
     "execution_count": 7,
     "metadata": {},
     "output_type": "execute_result"
    }
   ],
   "source": [
    "chi2_stat"
   ]
  },
  {
   "cell_type": "markdown",
   "id": "ec571634",
   "metadata": {},
   "source": [
    "## critical_Value"
   ]
  },
  {
   "cell_type": "code",
   "execution_count": 8,
   "id": "d5f1a462",
   "metadata": {},
   "outputs": [],
   "source": [
    "# Critical value for alpha = 0.05 and df = 4\n",
    "alpha=0.05\n",
    "df=4\n",
    "critical_value=chi2.ppf(1-alpha,df)"
   ]
  },
  {
   "cell_type": "code",
   "execution_count": 9,
   "id": "2e108d7c",
   "metadata": {},
   "outputs": [
    {
     "data": {
      "text/plain": [
       "9.487729036781154"
      ]
     },
     "execution_count": 9,
     "metadata": {},
     "output_type": "execute_result"
    }
   ],
   "source": [
    "critical_value"
   ]
  },
  {
   "cell_type": "markdown",
   "id": "8ccc62ea",
   "metadata": {},
   "source": [
    "## Decision"
   ]
  },
  {
   "cell_type": "code",
   "execution_count": 10,
   "id": "5f222bed",
   "metadata": {},
   "outputs": [],
   "source": [
    "if chi2_stat > critical_value:\n",
    "    decision = \"Reject the null hypothesis\"\n",
    "else:\n",
    "    decision = \"Fail to reject the null hypothesis\"\n"
   ]
  },
  {
   "cell_type": "code",
   "execution_count": 11,
   "id": "ee1ed8d5",
   "metadata": {},
   "outputs": [
    {
     "data": {
      "text/plain": [
       "'Fail to reject the null hypothesis'"
      ]
     },
     "execution_count": 11,
     "metadata": {},
     "output_type": "execute_result"
    }
   ],
   "source": [
    "decision"
   ]
  },
  {
   "cell_type": "markdown",
   "id": "f99ad224",
   "metadata": {},
   "source": [
    "## 02.Hypotheses Testing"
   ]
  },
  {
   "cell_type": "code",
   "execution_count": 6,
   "id": "dad8b2a7",
   "metadata": {},
   "outputs": [],
   "source": [
    "import numpy as np\n",
    "from scipy.stats import norm\n",
    "\n",
    "# Given data\n",
    "sample_mean = 3050  # Rs.\n",
    "theoretical_mean = 4000  # Rs.\n",
    "std_dev_units = 25  # units\n",
    "cost_per_unit = 5  # Rs per unit\n",
    "sample_size = 25"
   ]
  },
  {
   "cell_type": "code",
   "execution_count": 8,
   "id": "111b949e",
   "metadata": {},
   "outputs": [],
   "source": [
    "# Step 1: Calculate the standard deviation of the weekly cost\n",
    "cost_std_dev = cost_per_unit * std_dev_units  # Rs."
   ]
  },
  {
   "cell_type": "code",
   "execution_count": 9,
   "id": "409aee9e",
   "metadata": {},
   "outputs": [
    {
     "data": {
      "text/plain": [
       "125"
      ]
     },
     "execution_count": 9,
     "metadata": {},
     "output_type": "execute_result"
    }
   ],
   "source": [
    "cost_std_dev"
   ]
  },
  {
   "cell_type": "code",
   "execution_count": 19,
   "id": "91961dd8",
   "metadata": {},
   "outputs": [],
   "source": [
    "# Step 2: Calculate the standard error of the mean\n",
    "standard_error = cost_std_dev / np.sqrt(sample_size)"
   ]
  },
  {
   "cell_type": "code",
   "execution_count": 11,
   "id": "f1865a28",
   "metadata": {},
   "outputs": [
    {
     "data": {
      "text/plain": [
       "25.0"
      ]
     },
     "execution_count": 11,
     "metadata": {},
     "output_type": "execute_result"
    }
   ],
   "source": [
    "standard_error"
   ]
  },
  {
   "cell_type": "markdown",
   "id": "bb54619a",
   "metadata": {},
   "source": [
    "## Test Statisttic"
   ]
  },
  {
   "cell_type": "code",
   "execution_count": 12,
   "id": "5592410e",
   "metadata": {},
   "outputs": [],
   "source": [
    "# Step 3: Calculate the test statistic (z-score)\n",
    "test_statistic = (sample_mean - theoretical_mean) / standard_error"
   ]
  },
  {
   "cell_type": "code",
   "execution_count": 13,
   "id": "69e90062",
   "metadata": {},
   "outputs": [
    {
     "data": {
      "text/plain": [
       "-38.0"
      ]
     },
     "execution_count": 13,
     "metadata": {},
     "output_type": "execute_result"
    }
   ],
   "source": [
    "test_statistic"
   ]
  },
  {
   "cell_type": "markdown",
   "id": "635d0186",
   "metadata": {},
   "source": [
    "## Critical Value"
   ]
  },
  {
   "cell_type": "code",
   "execution_count": 14,
   "id": "ea09b44a",
   "metadata": {},
   "outputs": [],
   "source": [
    "# Step 4: Determine the critical value for a one-tailed test at alpha = 0.05\n",
    "alpha = 0.05\n",
    "critical_value = norm.ppf(1 - alpha)"
   ]
  },
  {
   "cell_type": "code",
   "execution_count": 15,
   "id": "3ae8314a",
   "metadata": {},
   "outputs": [
    {
     "data": {
      "text/plain": [
       "1.6448536269514722"
      ]
     },
     "execution_count": 15,
     "metadata": {},
     "output_type": "execute_result"
    }
   ],
   "source": [
    "critical_value"
   ]
  },
  {
   "cell_type": "markdown",
   "id": "2846fff4",
   "metadata": {},
   "source": [
    "## Decision"
   ]
  },
  {
   "cell_type": "code",
   "execution_count": 16,
   "id": "9d9f4175",
   "metadata": {},
   "outputs": [],
   "source": [
    "# Step 5: Make a decision based on the test statistic and critical value\n",
    "if test_statistic > critical_value:\n",
    "    decision = \"Reject the null hypothesis\"\n",
    "else:\n",
    "    decision = \"Fail to reject the null hypothesis\""
   ]
  },
  {
   "cell_type": "code",
   "execution_count": 17,
   "id": "d64cbcf8",
   "metadata": {},
   "outputs": [
    {
     "data": {
      "text/plain": [
       "'Fail to reject the null hypothesis'"
      ]
     },
     "execution_count": 17,
     "metadata": {},
     "output_type": "execute_result"
    }
   ],
   "source": [
    "decision"
   ]
  },
  {
   "cell_type": "code",
   "execution_count": 18,
   "id": "fd091802",
   "metadata": {},
   "outputs": [
    {
     "name": "stdout",
     "output_type": "stream",
     "text": [
      "Test Statistic: -38.00\n",
      "Critical Value: 1.64\n",
      "Decision: Fail to reject the null hypothesis\n"
     ]
    }
   ],
   "source": [
    "# Output the results\n",
    "print(f\"Test Statistic: {test_statistic:.2f}\")\n",
    "print(f\"Critical Value: {critical_value:.2f}\")\n",
    "print(f\"Decision: {decision}\")"
   ]
  },
  {
   "cell_type": "code",
   "execution_count": null,
   "id": "1f4f5eff",
   "metadata": {},
   "outputs": [],
   "source": []
  }
 ],
 "metadata": {
  "kernelspec": {
   "display_name": "Python 3 (ipykernel)",
   "language": "python",
   "name": "python3"
  },
  "language_info": {
   "codemirror_mode": {
    "name": "ipython",
    "version": 3
   },
   "file_extension": ".py",
   "mimetype": "text/x-python",
   "name": "python",
   "nbconvert_exporter": "python",
   "pygments_lexer": "ipython3",
   "version": "3.11.3"
  }
 },
 "nbformat": 4,
 "nbformat_minor": 5
}
